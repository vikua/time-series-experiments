{
 "cells": [
  {
   "cell_type": "code",
   "execution_count": 1,
   "metadata": {},
   "outputs": [],
   "source": [
    "from datetime import datetime, timedelta\n",
    "\n",
    "import pandas as pd \n",
    "import matplotlib.pyplot as plt\n",
    "from sklearn.preprocessing import StandardScaler\n",
    "from sklearn.impute import SimpleImputer\n",
    "\n",
    "from time_series_experiments.pipeline.dataset import DatasetConfig, read_dataset, VarType\n",
    "from time_series_experiments.pipeline.validation import BacktestingCrossVal\n",
    "from time_series_experiments.pipeline.data import to_task_data\n",
    "from time_series_experiments.pipeline import Pipeline, ColumnsProcessor, Step\n",
    "from time_series_experiments.pipeline.tasks import Wrap, OrdCat, DateFeatures"
   ]
  },
  {
   "cell_type": "code",
   "execution_count": 2,
   "metadata": {},
   "outputs": [],
   "source": [
    "config = DatasetConfig(\n",
    "    path='https://automlsamplenotebookdata.blob.core.windows.net/automl-sample-notebook-data/nyc_energy.csv', \n",
    "    date_col='timeStamp', \n",
    "    target_col='demand', \n",
    "    series_id_col=None,\n",
    "    feature_tyspes={\n",
    "        'precip': VarType.NUM,\n",
    "        'temp': VarType.NUM,\n",
    "        'timeStamp': VarType.DATE,\n",
    "    }\n",
    ")"
   ]
  },
  {
   "cell_type": "code",
   "execution_count": 3,
   "metadata": {},
   "outputs": [],
   "source": [
    "def create_pipeline():\n",
    "    numeric_pipeline = Pipeline(\n",
    "        steps=[\n",
    "            Step(\"impute\", Wrap(SimpleImputer(strategy=\"mean\"))),\n",
    "            Step(\"scale\", Wrap(StandardScaler())),\n",
    "        ]\n",
    "    )\n",
    "    categorical_pipeline = Pipeline(\n",
    "        steps=[\n",
    "            Step(\n",
    "                \"impute\",\n",
    "                Wrap(\n",
    "                    SimpleImputer(\n",
    "                        strategy=\"constant\", fill_value=\"missing\", add_indicator=True\n",
    "                    )\n",
    "                ),\n",
    "            ),\n",
    "            Step(\"encode\", OrdCat()),\n",
    "        ]\n",
    "    )\n",
    "    date_pipeline = Pipeline(\n",
    "        steps=[\n",
    "            Step(\"derive\", DateFeatures()), \n",
    "            Step(\"encode\", ColumnsProcessor(\n",
    "                branches=[\n",
    "                    Step(\"num\", Wrap(StandardScaler()), types=[VarType.NUM]),\n",
    "                    Step(\"cat\", OrdCat(), types=[VarType.CAT])\n",
    "                ]\n",
    "            ))\n",
    "        ]\n",
    "    )\n",
    "\n",
    "    preprocessor = ColumnsProcessor(\n",
    "        branches=[\n",
    "            Step(\"num\", numeric_pipeline, types=[VarType.NUM]),\n",
    "            Step(\"cat\", categorical_pipeline, types=[VarType.CAT]),\n",
    "            Step(\"dat\", date_pipeline, types=[VarType.DATE])\n",
    "        ]\n",
    "    )\n",
    "    return Pipeline(steps=[Step(\"prep\", preprocessor)])"
   ]
  },
  {
   "cell_type": "code",
   "execution_count": 4,
   "metadata": {},
   "outputs": [],
   "source": [
    "nyc = read_dataset(config)"
   ]
  },
  {
   "cell_type": "code",
   "execution_count": 5,
   "metadata": {},
   "outputs": [],
   "source": [
    "y = nyc.pop(config.target_col)\n",
    "y = y.values"
   ]
  },
  {
   "cell_type": "code",
   "execution_count": 6,
   "metadata": {},
   "outputs": [],
   "source": [
    "cross_val = BacktestingCrossVal(\n",
    "    data=nyc,\n",
    "    config=config, \n",
    "    k=1,\n",
    "    validation_size=0.2,\n",
    ")"
   ]
  },
  {
   "cell_type": "code",
   "execution_count": 18,
   "metadata": {},
   "outputs": [],
   "source": [
    "for backtest in cross_val: \n",
    "    X_train = pd.DataFrame(nyc.values[backtest.train_index], columns=nyc.columns)\n",
    "    y_train = y[backtest.train_index]\n",
    "    X_test = pd.DataFrame(nyc.values[backtest.test_index], columns=nyc.columns)\n",
    "    y_test = y[backtest.test_index]\n",
    "    \n",
    "    train = to_task_data(X_train, y_train, config)\n",
    "    test = to_task_data(X_test, y_test, config)\n",
    "    \n",
    "    pipeline = create_pipeline()\n",
    "    train = pipeline.fit_transform(train)\n",
    "    test = pipeline.transform(test)"
   ]
  },
  {
   "cell_type": "code",
   "execution_count": 19,
   "metadata": {},
   "outputs": [
    {
     "data": {
      "text/plain": [
       "array([[-0.16092953,  0.88611196,  1.69736034, ...,  5.        ,\n",
       "         0.        ,  0.        ],\n",
       "       [-0.16092953,  0.93340299,  1.69736034, ...,  6.        ,\n",
       "         0.        ,  0.        ],\n",
       "       [-0.16092953,  0.92143779,  1.69736034, ...,  7.        ,\n",
       "         0.        ,  0.        ],\n",
       "       ...,\n",
       "       [-0.16092953,  0.86560018,  2.45925247, ...,  4.        ,\n",
       "         0.        ,  0.        ],\n",
       "       [-0.16092953,  0.79152989,  2.45925247, ...,  5.        ,\n",
       "         0.        ,  0.        ],\n",
       "       [-0.02356444,  0.71973868,  2.45925247, ...,  6.        ,\n",
       "         0.        ,  0.        ]])"
      ]
     },
     "execution_count": 19,
     "metadata": {},
     "output_type": "execute_result"
    }
   ],
   "source": [
    "test.X"
   ]
  },
  {
   "cell_type": "code",
   "execution_count": null,
   "metadata": {},
   "outputs": [],
   "source": []
  }
 ],
 "metadata": {
  "kernelspec": {
   "display_name": "ts-exp",
   "language": "python",
   "name": "ts-exp"
  },
  "language_info": {
   "codemirror_mode": {
    "name": "ipython",
    "version": 3
   },
   "file_extension": ".py",
   "mimetype": "text/x-python",
   "name": "python",
   "nbconvert_exporter": "python",
   "pygments_lexer": "ipython3",
   "version": "3.7.6"
  }
 },
 "nbformat": 4,
 "nbformat_minor": 4
}
